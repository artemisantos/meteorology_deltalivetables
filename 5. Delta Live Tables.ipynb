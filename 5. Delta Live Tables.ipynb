{
 "cells": [
  {
   "cell_type": "markdown",
   "metadata": {
    "application/vnd.databricks.v1+cell": {
     "cellMetadata": {},
     "inputWidgets": {},
     "nuid": "e8582fcf-ea51-4fce-970b-8531a76e0dab",
     "showTitle": false,
     "tableResultSettingsMap": {},
     "title": ""
    }
   },
   "source": [
    "### locations"
   ]
  },
  {
   "cell_type": "code",
   "execution_count": 0,
   "metadata": {
    "application/vnd.databricks.v1+cell": {
     "cellMetadata": {
      "byteLimit": 2048000,
      "rowLimit": 10000
     },
     "inputWidgets": {},
     "nuid": "9e8a652e-1b99-4a8c-8ccc-0641abf2487a",
     "showTitle": false,
     "tableResultSettingsMap": {},
     "title": ""
    }
   },
   "outputs": [],
   "source": [
    "CREATE STREAMING LIVE TABLE locations_bronze\n",
    "TBLPROPERTIES (\"quality\" = \"bronze\")\n",
    "AS\n",
    "SELECT * \n",
    "FROM cloud_files(\n",
    "  \"abfss://data@databricksacc2025.dfs.core.windows.net/openaq-locations-data/\",\n",
    "  \"json\",\n",
    "  map(\n",
    "    \"inferSchema\", \"true\",\n",
    "    \"multiLine\", \"true\"\n",
    "  )\n",
    ");"
   ]
  },
  {
   "cell_type": "code",
   "execution_count": 0,
   "metadata": {
    "application/vnd.databricks.v1+cell": {
     "cellMetadata": {},
     "inputWidgets": {},
     "nuid": "7335f3e8-5adc-40f2-9fda-bcd1df0d0760",
     "showTitle": false,
     "tableResultSettingsMap": {},
     "title": ""
    }
   },
   "outputs": [],
   "source": [
    "CREATE STREAMING LIVE TABLE locations_silver\n",
    "TBLPROPERTIES (\"quality\" = \"silver\")\n",
    "AS\n",
    "SELECT \n",
    "  CAST(id AS STRING) AS location_id,\n",
    "  COALESCE(name, 'Unknown') AS name,\n",
    "  COALESCE(locality, 'Unknown') AS locality,\n",
    "  from_json(country, 'STRUCT<code: STRING, name: STRING>').code AS country_code,\n",
    "  from_json(country, 'STRUCT<code: STRING, name: STRING>').name AS country_name,\n",
    "  from_json(coordinates, 'STRUCT<latitude: DOUBLE, longitude: DOUBLE>').latitude AS latitude,\n",
    "  from_json(coordinates, 'STRUCT<latitude: DOUBLE, longitude: DOUBLE>').longitude AS longitude\n",
    "FROM STREAM(locations_bronze)"
   ]
  },
  {
   "cell_type": "markdown",
   "metadata": {
    "application/vnd.databricks.v1+cell": {
     "cellMetadata": {},
     "inputWidgets": {},
     "nuid": "55535e18-ec76-4ddf-be37-4546e752ea20",
     "showTitle": false,
     "tableResultSettingsMap": {},
     "title": ""
    }
   },
   "source": [
    "### measurements"
   ]
  },
  {
   "cell_type": "code",
   "execution_count": 0,
   "metadata": {
    "application/vnd.databricks.v1+cell": {
     "cellMetadata": {
      "byteLimit": 2048000,
      "implicitDf": true,
      "rowLimit": 10000
     },
     "inputWidgets": {},
     "nuid": "a4891cd0-4765-4b91-a412-8c2431320c05",
     "showTitle": false,
     "tableResultSettingsMap": {},
     "title": ""
    }
   },
   "outputs": [],
   "source": [
    "CREATE STREAMING LIVE TABLE measurements_bronze\n",
    "TBLPROPERTIES (\"quality\" = \"bronze\")\n",
    "AS\n",
    "SELECT *\n",
    "FROM cloud_files(\n",
    "  \"abfss://data@databricksacc2025.dfs.core.windows.net/openaq-measurements-data/\",\n",
    "  \"json\",\n",
    "  map(\n",
    "    \"inferSchema\", \"true\",\n",
    "    \"multiLine\", \"true\"\n",
    "  )\n",
    ");"
   ]
  },
  {
   "cell_type": "code",
   "execution_count": 0,
   "metadata": {
    "application/vnd.databricks.v1+cell": {
     "cellMetadata": {
      "byteLimit": 2048000,
      "rowLimit": 10000
     },
     "inputWidgets": {},
     "nuid": "881071b9-f77f-4091-b46f-35b7e743f9d9",
     "showTitle": false,
     "tableResultSettingsMap": {},
     "title": ""
    }
   },
   "outputs": [],
   "source": [
    "CREATE STREAMING LIVE TABLE measurements_silver\n",
    "TBLPROPERTIES (\"quality\" = \"silver\")\n",
    "AS\n",
    "SELECT \n",
    "    CAST(location_id AS STRING) AS location_id,\n",
    "    CAST(sensor_id AS STRING) AS sensor_id,\n",
    "    from_json(parameter, 'STRUCT<id: STRING, name: STRING, units: STRING, displayName: STRING>').id AS parameter_id,\n",
    "    from_json(parameter, 'STRUCT<id: STRING, name: STRING, units: STRING, displayName: STRING>').name AS parameter_name,\n",
    "    from_json(parameter, 'STRUCT<id: STRING, name: STRING, units: STRING, displayName: STRING>').units AS parameter_units,\n",
    "    from_json(parameter, 'STRUCT<id: STRING, name: STRING, units: STRING, displayName: STRING>').displayName AS parameter_displayName,\n",
    "    ROUND(COALESCE(CAST(value AS DOUBLE), 0), 2) AS value,\n",
    "    from_json(period, 'STRUCT<datetimeFrom: STRUCT<utc: STRING>, datetimeTo: STRUCT<utc: STRING>>').datetimeFrom.utc AS period_datetimeFrom_utc,\n",
    "    from_json(period, 'STRUCT<datetimeFrom: STRUCT<utc: STRING>, datetimeTo: STRUCT<utc: STRING>>').datetimeTo.utc AS period_datetimeTo_utc,\n",
    "    from_json(coverage, 'STRUCT<observedInterval: STRING, percentCoverage: STRING>').observedInterval AS coverage_observedInterval,\n",
    "    from_json(coverage, 'STRUCT<observedInterval: STRING, percentCoverage: STRING>').percentCoverage AS coverage_percentCoverage\n",
    "FROM STREAM(measurements_bronze)\n",
    "WHERE location_id IS NOT NULL \n",
    "  AND sensor_id IS NOT NULL \n",
    "  AND value IS NOT NULL;"
   ]
  },
  {
   "cell_type": "markdown",
   "metadata": {
    "application/vnd.databricks.v1+cell": {
     "cellMetadata": {},
     "inputWidgets": {},
     "nuid": "6606c16c-1688-4291-9831-36a2a586a5b1",
     "showTitle": false,
     "tableResultSettingsMap": {},
     "title": ""
    }
   },
   "source": [
    "### weather"
   ]
  },
  {
   "cell_type": "code",
   "execution_count": 0,
   "metadata": {
    "application/vnd.databricks.v1+cell": {
     "cellMetadata": {
      "byteLimit": 2048000,
      "rowLimit": 10000
     },
     "inputWidgets": {},
     "nuid": "991fdc58-3fb9-4d40-8305-8b0c13e63df5",
     "showTitle": false,
     "tableResultSettingsMap": {},
     "title": ""
    }
   },
   "outputs": [],
   "source": [
    "CREATE STREAMING LIVE TABLE weather_bronze\n",
    "TBLPROPERTIES (\"quality\" = \"bronze\")\n",
    "AS\n",
    "WITH parsed AS (\n",
    "    SELECT\n",
    "        location_id,\n",
    "        latitude,\n",
    "        longitude,\n",
    "        from_json(\n",
    "          hourly, \n",
    "          \"STRUCT<\n",
    "             time:ARRAY<STRING>,\n",
    "             temperature_2m:ARRAY<DOUBLE>,\n",
    "             relative_humidity_2m:ARRAY<DOUBLE>,\n",
    "             dew_point_2m:ARRAY<DOUBLE>,\n",
    "             apparent_temperature:ARRAY<DOUBLE>,\n",
    "             pressure_msl:ARRAY<DOUBLE>,\n",
    "             surface_pressure:ARRAY<DOUBLE>,\n",
    "             precipitation:ARRAY<DOUBLE>,\n",
    "             rain:ARRAY<DOUBLE>,\n",
    "             snowfall:ARRAY<DOUBLE>,\n",
    "             cloud_cover:ARRAY<DOUBLE>,\n",
    "             cloud_cover_low:ARRAY<DOUBLE>,\n",
    "             cloud_cover_mid:ARRAY<DOUBLE>,\n",
    "             cloud_cover_high:ARRAY<DOUBLE>,\n",
    "             shortwave_radiation:ARRAY<DOUBLE>,\n",
    "             direct_radiation:ARRAY<DOUBLE>,\n",
    "             direct_normal_irradiance:ARRAY<DOUBLE>,\n",
    "             diffuse_radiation:ARRAY<DOUBLE>,\n",
    "             global_tilted_irradiance:ARRAY<DOUBLE>,\n",
    "             sunshine_duration:ARRAY<DOUBLE>,\n",
    "             wind_speed_10m:ARRAY<DOUBLE>,\n",
    "             wind_speed_100m:ARRAY<DOUBLE>,\n",
    "             wind_direction_10m:ARRAY<DOUBLE>,\n",
    "             wind_direction_100m:ARRAY<DOUBLE>,\n",
    "             wind_gusts_10m:ARRAY<DOUBLE>,\n",
    "             et0_fao_evapotranspiration:ARRAY<DOUBLE>,\n",
    "             weather_code:ARRAY<INT>,\n",
    "             snow_depth:ARRAY<DOUBLE>,\n",
    "             vapour_pressure_deficit:ARRAY<DOUBLE>,\n",
    "             soil_temperature_0_to_7cm:ARRAY<DOUBLE>,\n",
    "             soil_temperature_7_to_28cm:ARRAY<DOUBLE>,\n",
    "             soil_temperature_28_to_100cm:ARRAY<DOUBLE>,\n",
    "             soil_temperature_100_to_255cm:ARRAY<DOUBLE>,\n",
    "             soil_moisture_0_to_7cm:ARRAY<DOUBLE>,\n",
    "             soil_moisture_7_to_28cm:ARRAY<DOUBLE>,\n",
    "             soil_moisture_28_to_100cm:ARRAY<DOUBLE>,\n",
    "             soil_moisture_100_to_255cm:ARRAY<DOUBLE>\n",
    "          >\"\n",
    "        ) AS hourly_struct\n",
    "    FROM cloud_files(\n",
    "      \"abfss://data@databricksacc2025.dfs.core.windows.net/openmeteo-weather-data/\",\n",
    "      \"json\",\n",
    "      MAP(\n",
    "        \"inferSchema\", \"true\",\n",
    "        \"multiLine\", \"true\"\n",
    "      )\n",
    "    )\n",
    "),\n",
    "flattened AS (\n",
    "    SELECT\n",
    "        location_id,\n",
    "        latitude,\n",
    "        longitude,\n",
    "        time_array[pos] AS measurement_time,\n",
    "        temperature_2m_array[pos] AS temperature_2m,\n",
    "        relative_humidity_2m_array[pos] AS relative_humidity_2m,\n",
    "        dew_point_2m_array[pos] AS dew_point_2m,\n",
    "        apparent_temperature_array[pos] AS apparent_temperature,\n",
    "        pressure_msl_array[pos] AS pressure_msl,\n",
    "        surface_pressure_array[pos] AS surface_pressure,\n",
    "        precipitation_array[pos] AS precipitation,\n",
    "        rain_array[pos] AS rain,\n",
    "        snowfall_array[pos] AS snowfall,\n",
    "        cloud_cover_array[pos] AS cloud_cover,\n",
    "        cloud_cover_low_array[pos] AS cloud_cover_low,\n",
    "        cloud_cover_mid_array[pos] AS cloud_cover_mid,\n",
    "        cloud_cover_high_array[pos] AS cloud_cover_high,\n",
    "        shortwave_radiation_array[pos] AS shortwave_radiation,\n",
    "        direct_radiation_array[pos] AS direct_radiation,\n",
    "        direct_normal_irradiance_array[pos] AS direct_normal_irradiance,\n",
    "        diffuse_radiation_array[pos] AS diffuse_radiation,\n",
    "        global_tilted_irradiance_array[pos] AS global_tilted_irradiance,\n",
    "        sunshine_duration_array[pos] AS sunshine_duration,\n",
    "        wind_speed_10m_array[pos] AS wind_speed_10m,\n",
    "        wind_speed_100m_array[pos] AS wind_speed_100m,\n",
    "        wind_direction_10m_array[pos] AS wind_direction_10m,\n",
    "        wind_direction_100m_array[pos] AS wind_direction_100m,\n",
    "        wind_gusts_10m_array[pos] AS wind_gusts_10m,\n",
    "        et0_fao_evapotranspiration_array[pos] AS et0_fao_evapotranspiration,\n",
    "        weather_code_array[pos] AS weather_code,\n",
    "        snow_depth_array[pos] AS snow_depth,\n",
    "        vapour_pressure_deficit_array[pos] AS vapour_pressure_deficit,\n",
    "        soil_temperature_0_to_7cm_array[pos] AS soil_temperature_0_to_7cm,\n",
    "        soil_temperature_7_to_28cm_array[pos] AS soil_temperature_7_to_28cm,\n",
    "        soil_temperature_28_to_100cm_array[pos] AS soil_temperature_28_to_100cm,\n",
    "        soil_temperature_100_to_255cm_array[pos] AS soil_temperature_100_to_255cm,\n",
    "        soil_moisture_0_to_7cm_array[pos] AS soil_moisture_0_to_7cm,\n",
    "        soil_moisture_7_to_28cm_array[pos] AS soil_moisture_7_to_28cm,\n",
    "        soil_moisture_28_to_100cm_array[pos] AS soil_moisture_28_to_100cm,\n",
    "        soil_moisture_100_to_255cm_array[pos] AS soil_moisture_100_to_255cm\n",
    "\n",
    "    FROM (\n",
    "      SELECT\n",
    "        location_id,\n",
    "        latitude,\n",
    "        longitude,\n",
    "        hourly_struct.time                      AS time_array,\n",
    "        hourly_struct.temperature_2m            AS temperature_2m_array,\n",
    "        hourly_struct.relative_humidity_2m      AS relative_humidity_2m_array,\n",
    "        hourly_struct.dew_point_2m              AS dew_point_2m_array,\n",
    "        hourly_struct.apparent_temperature      AS apparent_temperature_array,\n",
    "        hourly_struct.pressure_msl              AS pressure_msl_array,\n",
    "        hourly_struct.surface_pressure          AS surface_pressure_array,\n",
    "        hourly_struct.precipitation             AS precipitation_array,\n",
    "        hourly_struct.rain                      AS rain_array,\n",
    "        hourly_struct.snowfall                  AS snowfall_array,\n",
    "        hourly_struct.cloud_cover               AS cloud_cover_array,\n",
    "        hourly_struct.cloud_cover_low           AS cloud_cover_low_array,\n",
    "        hourly_struct.cloud_cover_mid           AS cloud_cover_mid_array,\n",
    "        hourly_struct.cloud_cover_high          AS cloud_cover_high_array,\n",
    "        hourly_struct.shortwave_radiation       AS shortwave_radiation_array,\n",
    "        hourly_struct.direct_radiation          AS direct_radiation_array,\n",
    "        hourly_struct.direct_normal_irradiance  AS direct_normal_irradiance_array,\n",
    "        hourly_struct.diffuse_radiation         AS diffuse_radiation_array,\n",
    "        hourly_struct.global_tilted_irradiance  AS global_tilted_irradiance_array,\n",
    "        hourly_struct.sunshine_duration         AS sunshine_duration_array,\n",
    "        hourly_struct.wind_speed_10m            AS wind_speed_10m_array,\n",
    "        hourly_struct.wind_speed_100m           AS wind_speed_100m_array,\n",
    "        hourly_struct.wind_direction_10m        AS wind_direction_10m_array,\n",
    "        hourly_struct.wind_direction_100m       AS wind_direction_100m_array,\n",
    "        hourly_struct.wind_gusts_10m            AS wind_gusts_10m_array,\n",
    "        hourly_struct.et0_fao_evapotranspiration AS et0_fao_evapotranspiration_array,\n",
    "        hourly_struct.weather_code              AS weather_code_array,\n",
    "        hourly_struct.snow_depth                AS snow_depth_array,\n",
    "        hourly_struct.vapour_pressure_deficit   AS vapour_pressure_deficit_array,\n",
    "        hourly_struct.soil_temperature_0_to_7cm AS soil_temperature_0_to_7cm_array,\n",
    "        hourly_struct.soil_temperature_7_to_28cm AS soil_temperature_7_to_28cm_array,\n",
    "        hourly_struct.soil_temperature_28_to_100cm AS soil_temperature_28_to_100cm_array,\n",
    "        hourly_struct.soil_temperature_100_to_255cm AS soil_temperature_100_to_255cm_array,\n",
    "        hourly_struct.soil_moisture_0_to_7cm    AS soil_moisture_0_to_7cm_array,\n",
    "        hourly_struct.soil_moisture_7_to_28cm   AS soil_moisture_7_to_28cm_array,\n",
    "        hourly_struct.soil_moisture_28_to_100cm AS soil_moisture_28_to_100cm_array,\n",
    "        hourly_struct.soil_moisture_100_to_255cm AS soil_moisture_100_to_255cm_array\n",
    "      FROM parsed\n",
    "    )\n",
    "    LATERAL VIEW POSEXPLODE(time_array) AS pos, t\n",
    ")\n",
    "SELECT *\n",
    "FROM flattened;"
   ]
  },
  {
   "cell_type": "code",
   "execution_count": 0,
   "metadata": {
    "application/vnd.databricks.v1+cell": {
     "cellMetadata": {},
     "inputWidgets": {},
     "nuid": "556a9f3e-c408-498e-9250-9058d95b55e5",
     "showTitle": false,
     "tableResultSettingsMap": {},
     "title": ""
    }
   },
   "outputs": [],
   "source": [
    "CREATE STREAMING LIVE TABLE weather_silver\n",
    "TBLPROPERTIES (\"quality\" = \"silver\")\n",
    "AS\n",
    "SELECT\n",
    "    CAST(location_id AS STRING) AS location_id,\n",
    "    ROUND(COALESCE(latitude, 0), 6) AS latitude,\n",
    "    ROUND(COALESCE(longitude, 0), 6) AS longitude,\n",
    "    measurement_time,\n",
    "    ROUND(COALESCE(temperature_2m, 0), 2) AS temperature_2m,\n",
    "    ROUND(COALESCE(relative_humidity_2m, 0), 2) AS relative_humidity_2m,\n",
    "    ROUND(COALESCE(precipitation, 0), 2) AS precipitation,\n",
    "    ROUND(COALESCE(wind_speed_10m, 0), 2) AS wind_speed_10m,\n",
    "    ROUND(COALESCE(wind_gusts_10m, 0), 2) AS wind_gusts_10m,\n",
    "    COALESCE(weather_code, 0) AS weather_code  \n",
    "FROM STREAM(LIVE.weather_bronze)\n",
    "WHERE location_id IS NOT NULL \n",
    "  AND latitude IS NOT NULL \n",
    "  AND longitude IS NOT NULL;"
   ]
  },
  {
   "cell_type": "markdown",
   "metadata": {
    "application/vnd.databricks.v1+cell": {
     "cellMetadata": {},
     "inputWidgets": {},
     "nuid": "97e7302b-8cd7-4131-9835-f63654628cc9",
     "showTitle": false,
     "tableResultSettingsMap": {},
     "title": ""
    }
   },
   "source": [
    "### daily_meteorology_gold"
   ]
  },
  {
   "cell_type": "code",
   "execution_count": 0,
   "metadata": {
    "application/vnd.databricks.v1+cell": {
     "cellMetadata": {
      "byteLimit": 2048000,
      "rowLimit": 10000
     },
     "inputWidgets": {},
     "nuid": "80e858ee-c5c2-4ff5-933d-369f63aeb189",
     "showTitle": false,
     "tableResultSettingsMap": {},
     "title": ""
    }
   },
   "outputs": [],
   "source": [
    "CREATE OR REPLACE MATERIALIZED VIEW daily_meteorology_gold\n",
    "AS\n",
    "SELECT\n",
    "  loc.location_id AS loc_location_id,\n",
    "  DATE(meas.period_datetimeFrom_utc) AS date,\n",
    "  meas.parameter_name,  -- Dodano informację o rodzaju zanieczyszczenia\n",
    "  loc.name,\n",
    "  loc.locality,\n",
    "  loc.country_code,\n",
    "  loc.country_name,\n",
    "  loc.latitude,\n",
    "  loc.longitude,\n",
    "  ROUND(COALESCE(AVG(meas.value), 0), 2) AS avg_measurement_value,\n",
    "  ROUND(COALESCE(AVG(weather.temperature_2m), 0), 2) AS avg_temperature_2m,\n",
    "  ROUND(COALESCE(AVG(weather.relative_humidity_2m), 0), 2) AS avg_relative_humidity_2m,\n",
    "  ROUND(COALESCE(AVG(weather.precipitation), 0), 2) AS avg_precipitation,\n",
    "  ROUND(COALESCE(AVG(weather.wind_speed_10m), 0), 2) AS avg_wind_speed_10m,\n",
    "  ROUND(COALESCE(AVG(weather.wind_gusts_10m), 0), 2) AS avg_wind_gusts_10m,\n",
    "  COUNT(*) AS record_count\n",
    "FROM\n",
    "  live.locations_silver loc\n",
    "LEFT JOIN\n",
    "  live.measurements_silver meas\n",
    "ON\n",
    "  loc.location_id = meas.location_id\n",
    "LEFT JOIN\n",
    "  live.weather_silver weather\n",
    "ON\n",
    "  loc.location_id = weather.location_id\n",
    "  AND DATE(meas.period_datetimeFrom_utc) = DATE(weather.measurement_time)\n",
    "WHERE\n",
    "  loc.location_id IS NOT NULL\n",
    "GROUP BY\n",
    "  loc.location_id,\n",
    "  DATE(meas.period_datetimeFrom_utc),\n",
    "  meas.parameter_name,\n",
    "  loc.name,\n",
    "  loc.locality,\n",
    "  loc.country_code,\n",
    "  loc.country_name,\n",
    "  loc.latitude,\n",
    "  loc.longitude;"
   ]
  }
 ],
 "metadata": {
  "application/vnd.databricks.v1+notebook": {
   "computePreferences": null,
   "dashboards": [],
   "environmentMetadata": {
    "base_environment": "",
    "environment_version": "2"
   },
   "language": "sql",
   "notebookMetadata": {
    "mostRecentlyExecutedCommandWithImplicitDF": {
     "commandId": 865266231357681,
     "dataframes": [
      "_sqldf"
     ]
    },
    "pythonIndentUnit": 4
   },
   "notebookName": "5. Delta Live Tables",
   "widgets": {}
  },
  "language_info": {
   "name": "sql"
  }
 },
 "nbformat": 4,
 "nbformat_minor": 0
}