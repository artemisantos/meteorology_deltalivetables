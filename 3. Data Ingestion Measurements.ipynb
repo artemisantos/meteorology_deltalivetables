{
 "cells": [
  {
   "cell_type": "code",
   "execution_count": 0,
   "metadata": {
    "application/vnd.databricks.v1+cell": {
     "cellMetadata": {
      "byteLimit": 2048000,
      "rowLimit": 10000
     },
     "inputWidgets": {},
     "nuid": "901c0c1b-6c29-4577-8059-642f9b5f95b9",
     "showTitle": false,
     "tableResultSettingsMap": {},
     "title": ""
    }
   },
   "outputs": [],
   "source": [
    "import json\n",
    "import requests\n",
    "import time\n",
    "import logging\n",
    "from datetime import datetime\n",
    "from azure.storage.blob import BlobServiceClient"
   ]
  },
  {
   "cell_type": "code",
   "execution_count": 0,
   "metadata": {
    "application/vnd.databricks.v1+cell": {
     "cellMetadata": {
      "byteLimit": 2048000,
      "rowLimit": 10000
     },
     "inputWidgets": {},
     "nuid": "81fef707-eef6-4a6f-b5bb-037941c6e95e",
     "showTitle": false,
     "tableResultSettingsMap": {},
     "title": ""
    }
   },
   "outputs": [],
   "source": [
    "'''\n",
    "Logging configuration and initialization, reduced for external libraries.\n",
    "'''\n",
    "\n",
    "logging.basicConfig(\n",
    "    format=\"%(asctime)s - %(levelname)s: %(message)s\",\n",
    "    level=logging.INFO,\n",
    "    handlers=[logging.StreamHandler()]\n",
    ")\n",
    "\n",
    "for lib in [\"azure\", \"urllib3\", \"py4j\"]:\n",
    "    logging.getLogger(lib).setLevel(logging.WARNING)\n",
    "\n",
    "logger = logging.getLogger()\n",
    "logger.setLevel(logging.INFO)"
   ]
  },
  {
   "cell_type": "code",
   "execution_count": 0,
   "metadata": {
    "application/vnd.databricks.v1+cell": {
     "cellMetadata": {
      "byteLimit": 2048000,
      "rowLimit": 10000
     },
     "inputWidgets": {},
     "nuid": "8f93a396-8aee-43b3-a933-15f6077611a5",
     "showTitle": false,
     "tableResultSettingsMap": {},
     "title": ""
    }
   },
   "outputs": [],
   "source": [
    "'''\n",
    "Fetching access data from Databricks secrets.\n",
    "'''\n",
    "\n",
    "AZURE_CONNECTION_STRING = dbutils.secrets.get(\"dev_secrets\", \"storageconnection\")\n",
    "API_KEY_OPENAQ = dbutils.secrets.get(\"dev_secrets\", \"openaq\")"
   ]
  },
  {
   "cell_type": "code",
   "execution_count": 0,
   "metadata": {
    "application/vnd.databricks.v1+cell": {
     "cellMetadata": {
      "byteLimit": 2048000,
      "rowLimit": 10000
     },
     "inputWidgets": {},
     "nuid": "b3e265fa-3030-4e10-ad68-2bb4ef9f464f",
     "showTitle": false,
     "tableResultSettingsMap": {},
     "title": ""
    }
   },
   "outputs": [],
   "source": [
    "'''\n",
    "Initializing the client for handling Azure Blob Storage.\n",
    "'''\n",
    "\n",
    "CONTAINER_NAME = \"data\"\n",
    "blob_service = BlobServiceClient.from_connection_string(AZURE_CONNECTION_STRING)\n",
    "container_client = blob_service.get_container_client(CONTAINER_NAME)"
   ]
  },
  {
   "cell_type": "code",
   "execution_count": 0,
   "metadata": {
    "application/vnd.databricks.v1+cell": {
     "cellMetadata": {
      "byteLimit": 2048000,
      "rowLimit": 10000
     },
     "inputWidgets": {},
     "nuid": "a41647ec-0918-4d7e-8b1e-3db83b820009",
     "showTitle": false,
     "tableResultSettingsMap": {},
     "title": ""
    }
   },
   "outputs": [],
   "source": [
    "'''\n",
    "Definiton of paths and API endpoints.\n",
    "'''\n",
    "\n",
    "API_SENSORS_URL = \"https://api.openaq.org/v3/sensors\"\n",
    "LOCATIONS_PATH = \"openaq-locations-data\"\n",
    "MEASUREMENTS_PATH = \"openaq-measurements-data\"\n",
    "SENSORS_PATH = \"openaq-sensors-data\""
   ]
  },
  {
   "cell_type": "code",
   "execution_count": 0,
   "metadata": {
    "application/vnd.databricks.v1+cell": {
     "cellMetadata": {
      "byteLimit": 2048000,
      "rowLimit": 10000
     },
     "inputWidgets": {},
     "nuid": "690a83e7-f506-42e4-85e1-e14dfa7d7fea",
     "showTitle": false,
     "tableResultSettingsMap": {},
     "title": ""
    }
   },
   "outputs": [],
   "source": [
    "'''\n",
    "Definition of the date range for data retrieval.\n",
    "'''\n",
    "\n",
    "end_date_iso = datetime.utcnow().replace(minute=0, second=0, microsecond=0).strftime(\"%Y-%m-%dT%H:%M:%SZ\")\n",
    "start_date_iso = \"2025-01-01T00:00:00Z\""
   ]
  },
  {
   "cell_type": "code",
   "execution_count": 0,
   "metadata": {
    "application/vnd.databricks.v1+cell": {
     "cellMetadata": {
      "byteLimit": 2048000,
      "rowLimit": 10000
     },
     "inputWidgets": {},
     "nuid": "7daa15c7-a488-447f-b25e-29c1f9d69497",
     "showTitle": false,
     "tableResultSettingsMap": {},
     "title": ""
    }
   },
   "outputs": [],
   "source": [
    "def get_latest_measurements_file():\n",
    "    '''\n",
    "    Retrieves the name of the latest measurement file from Azure Blob Storage.\n",
    "\n",
    "    Returns:\n",
    "        str or None: File name or None if no files were found.\n",
    "    '''\n",
    "    logger.info(\"Searching for the latest measurement file in Azure Blob Storage.\")\n",
    "    blobs = list(container_client.list_blobs(name_starts_with=MEASUREMENTS_PATH))\n",
    "    \n",
    "    if not blobs:\n",
    "        logger.warning(\"No previous measurement files found. Fetching data from the beginning.\")\n",
    "        return None\n",
    "\n",
    "    latest_blob = max(blobs, key=lambda b: b.last_modified)\n",
    "    logger.info(f\"Found file: {latest_blob.name}\")\n",
    "    return latest_blob.name"
   ]
  },
  {
   "cell_type": "code",
   "execution_count": 0,
   "metadata": {
    "application/vnd.databricks.v1+cell": {
     "cellMetadata": {
      "byteLimit": 2048000,
      "rowLimit": 10000
     },
     "inputWidgets": {},
     "nuid": "70284f9c-072c-4ed9-9296-f2a35d975272",
     "showTitle": false,
     "tableResultSettingsMap": {},
     "title": ""
    }
   },
   "outputs": [],
   "source": [
    "def get_latest_measurement_timestamp(blob_name):\n",
    "    '''\n",
    "    Retrieves the latest timestamp from a measurement file in Azure Blob Storage.\n",
    "\n",
    "    Args:\n",
    "        blob_name (str): Name of the file in Azure Blob Storage.\n",
    "\n",
    "    Returns:\n",
    "        str or None: Latest timestamp in UTC format or None if no valid data is found.\n",
    "    '''\n",
    "    try:\n",
    "        logger.info(f\"Reading latest timestamp from file {blob_name}.\")\n",
    "        blob_client = container_client.get_blob_client(blob_name)\n",
    "        blob_data = blob_client.download_blob().readall().decode(\"utf-8\")\n",
    "        measurements = json.loads(blob_data)\n",
    "\n",
    "        if not measurements:\n",
    "            logger.warning(\"File is empty. Fetching data from the beginning.\")\n",
    "            return None\n",
    "\n",
    "        # Retrieving the maximum datetimeTo_utc value from measurements.\n",
    "        latest_timestamp = max(\n",
    "            m[\"coverage\"][\"datetimeTo\"][\"utc\"]\n",
    "            for m in measurements if \"coverage\" in m and \"datetimeTo\" in m[\"coverage\"]\n",
    "        )\n",
    "\n",
    "        logger.info(f\"Latest coverage_datetimeTo_utc: {latest_timestamp}\")\n",
    "        return latest_timestamp\n",
    "\n",
    "    except Exception as e:\n",
    "        logger.error(f\"Error reading timestamp: {e}\")\n",
    "        return None"
   ]
  },
  {
   "cell_type": "code",
   "execution_count": 0,
   "metadata": {
    "application/vnd.databricks.v1+cell": {
     "cellMetadata": {
      "byteLimit": 2048000,
      "rowLimit": 10000
     },
     "inputWidgets": {},
     "nuid": "bbec175c-99c9-4505-abb9-79bf2cb80b45",
     "showTitle": false,
     "tableResultSettingsMap": {},
     "title": ""
    }
   },
   "outputs": [],
   "source": [
    "def load_active_sensors_from_blob():\n",
    "    '''\n",
    "    Loads active sensors from Azure Blob Storage.\n",
    "\n",
    "    Returns:\n",
    "        list: List of active sensors as dictionaries.\n",
    "    '''\n",
    "    try:\n",
    "        logger.info(\"Fetching all sensors from Azure Blob Storage.\")\n",
    "\n",
    "        blob_list = list(container_client.list_blobs(name_starts_with=SENSORS_PATH))\n",
    "        if not blob_list:\n",
    "            logger.warning(\"No sensor files found.\")\n",
    "            return []\n",
    "\n",
    "        active_sensors = []\n",
    "\n",
    "        for blob in blob_list:\n",
    "            blob_client = container_client.get_blob_client(blob.name)\n",
    "            blob_data = json.loads(blob_client.download_blob().readall())\n",
    "\n",
    "            if blob_data.get(\"is_active\", True):\n",
    "                active_sensors.append(blob_data)\n",
    "\n",
    "        if not active_sensors:\n",
    "            logger.warning(\"No active sensors found.\")\n",
    "            return []\n",
    "\n",
    "        logger.info(f\"Loaded {len(active_sensors)} active sensors.\")\n",
    "        return active_sensors\n",
    "\n",
    "    except Exception as e:\n",
    "        logger.error(f\"Error reading sensors: {e}\")\n",
    "        return []"
   ]
  },
  {
   "cell_type": "code",
   "execution_count": 0,
   "metadata": {
    "application/vnd.databricks.v1+cell": {
     "cellMetadata": {
      "byteLimit": 2048000,
      "rowLimit": 10000
     },
     "inputWidgets": {},
     "nuid": "641006dc-10a9-4fca-97d6-04f5db75a287",
     "showTitle": false,
     "tableResultSettingsMap": {},
     "title": ""
    }
   },
   "outputs": [],
   "source": [
    "def fetch_measurements(sensor):\n",
    "    '''\n",
    "    Fetches measurement data for a given sensor from OpenAQ API.\n",
    "\n",
    "    Args:\n",
    "        sensor (dict): Dictionary containing sensor_id, location_id and parameter.\n",
    "    \n",
    "    Returns:\n",
    "        list: List of measurement records.\n",
    "    '''\n",
    "    page = 1\n",
    "    limit = 1000\n",
    "    measurements = []\n",
    "\n",
    "    while True:\n",
    "        try:\n",
    "            url = (\n",
    "                f\"{API_SENSORS_URL}/{sensor['sensor_id']}/measurements/hourly\"\n",
    "                f\"?datetime_from={start_date_iso}&datetime_to={end_date_iso}&limit={limit}&page={page}\"\n",
    "            )\n",
    "\n",
    "            response = requests.get(url, headers={\"X-API-Key\": API_KEY_OPENAQ})\n",
    "\n",
    "            if response.status_code == 429:\n",
    "                logger.warning(f\"API rate limit exceeded. Retrying in 60 seconds.\")\n",
    "                time.sleep(60)\n",
    "                continue\n",
    "\n",
    "            response.raise_for_status()\n",
    "            data = response.json().get(\"results\", [])\n",
    "\n",
    "            if not data:\n",
    "                break\n",
    "\n",
    "            for record in data:\n",
    "                record[\"location_id\"] = sensor[\"location_id\"]\n",
    "                record[\"sensor_id\"] = sensor[\"sensor_id\"]\n",
    "                record[\"parameter_name\"] = sensor[\"parameter\"]\n",
    "\n",
    "            measurements.extend(data)\n",
    "            logger.info(f\"Page {page}: Retrieved {len(data)} records for sensor {sensor['sensor_id']} ({sensor['parameter']})\")\n",
    "\n",
    "            if len(data) < limit:\n",
    "                break\n",
    "\n",
    "            page += 1\n",
    "            time.sleep(1)\n",
    "\n",
    "        except requests.exceptions.RequestException as e:\n",
    "            logger.error(f\"Error fetching data for sensor {sensor['sensor_id']}: {e}\")\n",
    "            break\n",
    "\n",
    "    return measurements"
   ]
  },
  {
   "cell_type": "code",
   "execution_count": 0,
   "metadata": {
    "application/vnd.databricks.v1+cell": {
     "cellMetadata": {
      "byteLimit": 2048000,
      "rowLimit": 10000
     },
     "inputWidgets": {},
     "nuid": "5f2b99df-f81e-484c-bbcc-59d3d5c7d628",
     "showTitle": false,
     "tableResultSettingsMap": {},
     "title": ""
    }
   },
   "outputs": [],
   "source": [
    "def save_to_blob(data, path):\n",
    "    '''\n",
    "    Saves measurement data to Azure Blob Storage.\n",
    "\n",
    "    Args:\n",
    "        data (list): List of measurement records to be saved.\n",
    "        path (str): Azure Blob Storage path.\n",
    "    '''\n",
    "\n",
    "    if not data:\n",
    "        logger.warning(\"No new data to save.\")\n",
    "        return\n",
    "\n",
    "    # Constructing the file name in the format measurements_YYYYMMDDHHMMSS.json.\n",
    "    blob_name = f\"{path}/measurements_{datetime.utcnow().strftime('%Y%m%d%H%M%S')}.json\"\n",
    "\n",
    "    try:\n",
    "        container_client.upload_blob(blob_name, json.dumps(data, indent=2), overwrite=True)\n",
    "        logger.info(f\"Data successfully saved to {blob_name}.\")\n",
    "\n",
    "    except Exception as e:\n",
    "        logger.error(f\"Error saving data: {e}\")"
   ]
  },
  {
   "cell_type": "code",
   "execution_count": 0,
   "metadata": {
    "application/vnd.databricks.v1+cell": {
     "cellMetadata": {
      "byteLimit": 2048000,
      "rowLimit": 10000
     },
     "inputWidgets": {},
     "nuid": "929aee5e-5437-476e-85d4-1c4c87ff4b06",
     "showTitle": false,
     "tableResultSettingsMap": {},
     "title": ""
    }
   },
   "outputs": [],
   "source": [
    "def main():\n",
    "    latest_measurements_file = get_latest_measurements_file()\n",
    "    if latest_measurements_file:\n",
    "        latest_timestamp = get_latest_measurement_timestamp(latest_measurements_file)\n",
    "        if latest_timestamp:\n",
    "            global start_date_iso\n",
    "            start_date_iso = latest_timestamp  \n",
    "\n",
    "    sensors = load_active_sensors_from_blob()\n",
    "    if not sensors:\n",
    "        exit(1)\n",
    "\n",
    "    all_measurements = []\n",
    "    for sensor in sensors:\n",
    "        all_measurements.extend(fetch_measurements(sensor))\n",
    "\n",
    "    if all_measurements:\n",
    "        save_to_blob(all_measurements, MEASUREMENTS_PATH)"
   ]
  },
  {
   "cell_type": "code",
   "execution_count": 0,
   "metadata": {
    "application/vnd.databricks.v1+cell": {
     "cellMetadata": {
      "byteLimit": 2048000,
      "rowLimit": 10000
     },
     "inputWidgets": {},
     "nuid": "08b382ae-1fe5-432d-8916-14f4ad0b9a10",
     "showTitle": false,
     "tableResultSettingsMap": {},
     "title": ""
    }
   },
   "outputs": [],
   "source": [
    "main()"
   ]
  }
 ],
 "metadata": {
  "application/vnd.databricks.v1+notebook": {
   "computePreferences": null,
   "dashboards": [],
   "environmentMetadata": {
    "base_environment": "",
    "environment_version": "2"
   },
   "language": "python",
   "notebookMetadata": {
    "pythonIndentUnit": 4
   },
   "notebookName": "3. Data Ingestion: Measurements",
   "widgets": {}
  },
  "language_info": {
   "name": "python"
  }
 },
 "nbformat": 4,
 "nbformat_minor": 0
}